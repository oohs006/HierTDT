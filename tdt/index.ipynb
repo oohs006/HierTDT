{
 "cells": [
  {
   "cell_type": "code",
   "execution_count": null,
   "metadata": {},
   "outputs": [],
   "source": [
    "import orjson\n",
    "\n",
    "sentences = []\n",
    "with open(\"tdt.jsonl\", 'rb') as fin:\n",
    "    for line in fin:\n",
    "        record = orjson.loads(line)\n",
    "        sentences.append(record[\"text\"])"
   ]
  },
  {
   "cell_type": "code",
   "execution_count": null,
   "metadata": {},
   "outputs": [],
   "source": [
    "import faiss\n",
    "from tqdm import tqdm\n",
    "from sentence_transformers import SentenceTransformer\n",
    "from torch.utils.data import DataLoader, Dataset\n",
    "\n",
    "\n",
    "class TextDataset(Dataset):\n",
    "    def __init__(self, sentences):\n",
    "        self.sentences = sentences\n",
    "\n",
    "    def __len__(self):\n",
    "        return len(self.sentences)\n",
    "\n",
    "    def __getitem__(self, idx):\n",
    "        return self.sentences[idx]\n",
    "\n",
    "\n",
    "dataset = TextDataset(sentences)\n",
    "dataloader = DataLoader(dataset, batch_size=1536, shuffle=False)\n",
    "\n",
    "# You can use any other model\n",
    "model = SentenceTransformer(\"all-MiniLM-L6-v2\", device=\"cuda\")\n",
    "model.half()\n",
    "\n",
    "d = 384 \n",
    "index = faiss.IndexFlatIP(d)\n",
    "\n",
    "\n",
    "total = len(sentences)\n",
    "with tqdm(total=total, desc=\"Processing Progress\", unit=\"items\") as pbar:\n",
    "    for i, batch in enumerate(dataloader):\n",
    "        batch_embeddings = model.encode(\n",
    "            batch,\n",
    "            batch_size=len(batch),\n",
    "            show_progress_bar=False,\n",
    "            convert_to_numpy=True,\n",
    "            normalize_embeddings=True,\n",
    "        )\n",
    "        index.add(batch_embeddings)\n",
    "        pbar.update(len(batch))"
   ]
  },
  {
   "cell_type": "code",
   "execution_count": null,
   "metadata": {},
   "outputs": [],
   "source": [
    "faiss.write_index(index, \"news_mpnet.index\")"
   ]
  }
 ],
 "metadata": {
  "kernelspec": {
   "display_name": "demo",
   "language": "python",
   "name": "python3"
  },
  "language_info": {
   "codemirror_mode": {
    "name": "ipython",
    "version": 3
   },
   "file_extension": ".py",
   "mimetype": "text/x-python",
   "name": "python",
   "nbconvert_exporter": "python",
   "pygments_lexer": "ipython3",
   "version": "3.12.9"
  }
 },
 "nbformat": 4,
 "nbformat_minor": 2
}
