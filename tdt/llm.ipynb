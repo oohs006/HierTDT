{
 "cells": [
  {
   "cell_type": "code",
   "execution_count": null,
   "metadata": {},
   "outputs": [],
   "source": [
    "from google import genai\n",
    "from google.genai import types\n",
    "from pydantic import BaseModel\n",
    "from typing import List\n",
    "\n",
    "class NewsAnalysisResult(BaseModel):\n",
    "    is_follow_up: bool\n",
    "    reason: str\n",
    "\n",
    "client = genai.Client(api_key=\"xxx\")\n",
    "\n",
    "def analyze_news_relationship(original_news: str, original_news_tags: List[str], \n",
    "                             follow_up_news: str):\n",
    "    tags_str = \", \".join(original_news_tags)\n",
    "    \n",
    "    contents = f\"\"\"\n",
    "        You are a news analyst evaluating news continuity with strict criteria.\n",
    "\n",
    "        Task: Methodically analyze if BOTH conditions are met, following these exact steps:\n",
    "\n",
    "        CONDITION 1 - Subsequent Report Check:\n",
    "        - Does the follow-up news reference the same core event as the original?\n",
    "        - Does it contain newer information or developments about this event?\n",
    "        - Does it explicitly or implicitly acknowledge the original news?\n",
    "        If ALL above are true, Condition 1 is met.\n",
    "\n",
    "        CONDITION 2 - Tag Matching Check:\n",
    "        - Extract the central topic/theme of both news items\n",
    "        - Does the follow-up news clearly belong to at least one of the categories \n",
    "          defined by the original tags?\n",
    "        - Is the central focus of the follow-up news related to at least one of these tags?\n",
    "        If ALL above are true, Condition 2 is met.\n",
    "\n",
    "        You must return EXACTLY one of these responses:\n",
    "        - RESULT: TRUE (only if both conditions are fully satisfied)\n",
    "        - RESULT: FALSE (if either condition fails)\n",
    "\n",
    "        Original news: {original_news}\n",
    "        Original news tags: {tags_str}\n",
    "        Follow-up news: {follow_up_news}\n",
    "    \"\"\"\n",
    "\n",
    "    response = client.models.generate_content(\n",
    "        model=\"gemini-2.0-flash\",\n",
    "        contents=[contents],\n",
    "        config={\n",
    "            'response_mime_type': 'application/json',\n",
    "            'response_schema': NewsAnalysisResult,\n",
    "            'temperature': 0,\n",
    "        }\n",
    "    )\n",
    "    \n",
    "    return response.parsed"
   ]
  },
  {
   "cell_type": "code",
   "execution_count": null,
   "metadata": {},
   "outputs": [],
   "source": [
    "original_news = \"\"\"....The European Union, with its 15 member countries and 373 million citizens, is not the \"\"\"\n",
    "original_news_tag = [\"ec general\", \"european community\"]\n",
    "follow_up_news = \"\"\"....United Nations says worlds population is steadily getting older everywhere; Joseph Chamie, demographer who directs UN population division...\"\"\"\n",
    "\n",
    "result = analyze_news_relationship(original_news, original_news_tag, follow_up_news)"
   ]
  },
  {
   "cell_type": "code",
   "execution_count": null,
   "metadata": {},
   "outputs": [],
   "source": [
    "result.is_follow_up"
   ]
  }
 ],
 "metadata": {
  "language_info": {
   "name": "python"
  }
 },
 "nbformat": 4,
 "nbformat_minor": 2
}
