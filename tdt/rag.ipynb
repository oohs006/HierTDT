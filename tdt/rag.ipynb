{
 "cells": [
  {
   "cell_type": "code",
   "execution_count": null,
   "metadata": {},
   "outputs": [],
   "source": [
    "from sentence_transformers import SentenceTransformer\n",
    "import faiss\n",
    "import orjson\n",
    "import json\n",
    "import warnings\n",
    "\n",
    "warnings.filterwarnings(\"ignore\", message=\"IProgress not found.*\")"
   ]
  },
  {
   "cell_type": "code",
   "execution_count": null,
   "metadata": {},
   "outputs": [],
   "source": [
    "model = SentenceTransformer(\"all-mpnet-base-v2\", device=\"cuda\")\n",
    "model.half()\n",
    "\n",
    "index = faiss.read_index(\"news_mpnet.index\")\n",
    "print(\"Number of vectors in the index:\", index.ntotal)"
   ]
  },
  {
   "cell_type": "code",
   "execution_count": null,
   "metadata": {},
   "outputs": [],
   "source": [
    "sentences = []\n",
    "with open(\"tdt.jsonl\", 'rb') as fin:\n",
    "    for line in fin:\n",
    "        record = orjson.loads(line)\n",
    "        sentences.append({\"text\": record[\"text\"], \"date\": record[\"date\"]})"
   ]
  },
  {
   "cell_type": "code",
   "execution_count": null,
   "metadata": {},
   "outputs": [],
   "source": [
    "da_labels = [\"xx\", ...]"
   ]
  },
  {
   "cell_type": "code",
   "execution_count": null,
   "metadata": {},
   "outputs": [],
   "source": [
    "da_texts = []\n",
    "\n",
    "with open(\"train.jsonl\", 'r', encoding='utf-8') as file:\n",
    "    for line in file:\n",
    "        data = orjson.loads(line.strip())\n",
    "        text = data['text']\n",
    "        labels = data['label']\n",
    "        title = data['title']\n",
    "        date = \"/\".join(data['date'].split(\"-\"))\n",
    "\n",
    "        labels_needed = []\n",
    "        for label in labels:\n",
    "            if label in da_labels:\n",
    "                labels_needed.append(label)\n",
    "\n",
    "        if labels_needed:\n",
    "            da_texts.append({\"labels\": labels_needed, \"title\": title, \"date\": date, \"text\": text})"
   ]
  },
  {
   "cell_type": "code",
   "execution_count": null,
   "metadata": {},
   "outputs": [],
   "source": [
    "unique_da_texts = []\n",
    "seen = set()\n",
    "for item in da_texts:\n",
    "    if item[\"text\"] not in seen:\n",
    "        seen.add(item[\"text\"])\n",
    "        unique_da_texts.append(item)"
   ]
  },
  {
   "cell_type": "code",
   "execution_count": null,
   "metadata": {},
   "outputs": [],
   "source": [
    "with open(\"query_data.jsonl\", \"w\") as f:\n",
    "    for item in unique_da_texts:\n",
    "        json.dump(item, f, ensure_ascii=False)\n",
    "        f.write(\"\\n\")"
   ]
  },
  {
   "cell_type": "code",
   "execution_count": null,
   "metadata": {},
   "outputs": [],
   "source": [
    "# 1. 扁平化数据并记录标签\n",
    "all_texts = []\n",
    "labels = []\n",
    "dates = []\n",
    "for item in unique_da_texts:\n",
    "    all_texts.append(item[\"text\"])\n",
    "    labels.append(item[\"labels\"])\n",
    "    dates.append(item[\"date\"])"
   ]
  },
  {
   "cell_type": "code",
   "execution_count": null,
   "metadata": {},
   "outputs": [],
   "source": [
    "batch_size = 1024  # Adjust according to GPU memory\n",
    "query_embeddings = model.encode(\n",
    "    all_texts,\n",
    "    batch_size=batch_size,\n",
    "    show_progress_bar=True,\n",
    "    convert_to_numpy=True,\n",
    "    normalize_embeddings=True,\n",
    ")\n",
    "print(\"Query embedding dimensions:\", query_embeddings.shape)"
   ]
  },
  {
   "cell_type": "code",
   "execution_count": null,
   "metadata": {},
   "outputs": [],
   "source": [
    "k = 10\n",
    "distances, indices = index.search(query_embeddings, k)\n",
    "print(\"Search completed, distances shape:\", distances.shape)"
   ]
  },
  {
   "cell_type": "code",
   "execution_count": null,
   "metadata": {},
   "outputs": [],
   "source": [
    "results = []\n",
    "\n",
    "for i in range(len(all_texts)):\n",
    "    query = all_texts[i]\n",
    "    date = dates[i]\n",
    "    label = labels[i]\n",
    "    for j in range(k):\n",
    "        if distances[i][j] >= 0.8:\n",
    "            results.append({\n",
    "                \"scores\": float(distances[i][j]),\n",
    "                \"labels\": label,\n",
    "                \"query_date\": date,\n",
    "                \"follow_date\": sentences[indices[i][j]][\"date\"],\n",
    "                \"query\": query,\n",
    "                \"follow\": sentences[indices[i][j]][\"text\"],\n",
    "            })\n",
    "\n",
    "\n",
    "print(\"Found\", len(results), \"results\")"
   ]
  },
  {
   "cell_type": "code",
   "execution_count": null,
   "metadata": {},
   "outputs": [],
   "source": [
    "deduped_data = []\n",
    "seen = set()\n",
    "\n",
    "for data in results:\n",
    "    follow = data.get(\"follow\")\n",
    "    if follow and follow not in seen:\n",
    "        seen.add(follow)\n",
    "        deduped_data.append(data)"
   ]
  },
  {
   "cell_type": "code",
   "execution_count": null,
   "metadata": {},
   "outputs": [],
   "source": [
    "from datetime import datetime\n",
    "\n",
    "def is_within_two_years(query_date_str, follow_date_str):\n",
    "    query_date = datetime.strptime(query_date_str, \"%Y/%m/%d\")\n",
    "    follow_date = datetime.strptime(follow_date_str, \"%Y/%m/%d\")\n",
    "    delta = (follow_date - query_date).days\n",
    "    return delta <= 3 * 365 and delta > 0\n",
    "\n",
    "filtered_results = [record for record in deduped_data if is_within_two_years(record[\"query_date\"], record[\"follow_date\"])]"
   ]
  },
  {
   "cell_type": "code",
   "execution_count": null,
   "metadata": {},
   "outputs": [],
   "source": [
    "import json\n",
    "\n",
    "with open(\"results.jsonl\", 'w', encoding='utf-8') as file:\n",
    "  for result in filtered_results:\n",
    "    json.dump(result, file, ensure_ascii=False)\n",
    "    file.write('\\n')"
   ]
  }
 ],
 "metadata": {
  "kernelspec": {
   "display_name": "demo",
   "language": "python",
   "name": "python3"
  },
  "language_info": {
   "name": "python",
   "version": "3.12.9"
  }
 },
 "nbformat": 4,
 "nbformat_minor": 2
}
